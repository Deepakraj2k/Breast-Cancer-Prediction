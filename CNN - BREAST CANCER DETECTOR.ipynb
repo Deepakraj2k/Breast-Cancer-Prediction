{
 "cells": [
  {
   "cell_type": "markdown",
   "metadata": {},
   "source": [
    "# 1. IMPORT LIBRARIES"
   ]
  },
  {
   "cell_type": "code",
   "execution_count": 1,
   "metadata": {},
   "outputs": [],
   "source": [
    "from tensorflow.keras.models import Sequential\n",
    "from tensorflow.keras.layers import Dense, Convolution2D, MaxPooling2D, Flatten\n",
    "from tensorflow.keras.preprocessing.image import ImageDataGenerator"
   ]
  },
  {
   "cell_type": "markdown",
   "metadata": {},
   "source": [
    "# 2. IMAGE PREPROCESSING"
   ]
  },
  {
   "cell_type": "code",
   "execution_count": 2,
   "metadata": {},
   "outputs": [],
   "source": [
    "train_data = ImageDataGenerator(rescale = 1./224, shear_range = 0.2, zoom_range = 0.2, horizontal_flip = True)\n",
    "test_data = ImageDataGenerator(rescale = 1./224)"
   ]
  },
  {
   "cell_type": "code",
   "execution_count": 3,
   "metadata": {},
   "outputs": [
    {
     "name": "stdout",
     "output_type": "stream",
     "text": [
      "Found 102394 images belonging to 2 classes.\n",
      "Found 44087 images belonging to 2 classes.\n"
     ]
    }
   ],
   "source": [
    "x_train = train_data.flow_from_directory(r'C:\\Users\\SaiDeepak\\Desktop\\MINI\\Project\\TRAIN', target_size = (32,32), batch_size = 32, class_mode = \"binary\")\n",
    "x_test = test_data.flow_from_directory(r'C:\\Users\\SaiDeepak\\Desktop\\MINI\\Project\\TEST', target_size = (32,32), batch_size = 32, class_mode = \"binary\")"
   ]
  },
  {
   "cell_type": "code",
   "execution_count": 4,
   "metadata": {},
   "outputs": [],
   "source": [
    "#HERE THE TWO CLASSES ARE BENIGN AND MALIGNANT\n",
    "#BENIGN - CLASS 0\n",
    "#MALIGNANT - CLASS 1"
   ]
  },
  {
   "cell_type": "markdown",
   "metadata": {},
   "source": [
    "# 3. INITIALIZING THE MODEL"
   ]
  },
  {
   "cell_type": "code",
   "execution_count": 5,
   "metadata": {},
   "outputs": [],
   "source": [
    "detector = Sequential()"
   ]
  },
  {
   "cell_type": "markdown",
   "metadata": {},
   "source": [
    "# 4. ADDING CONVOLUTION LAYER"
   ]
  },
  {
   "cell_type": "code",
   "execution_count": 6,
   "metadata": {},
   "outputs": [],
   "source": [
    "detector.add(Convolution2D(32,(3,3), input_shape = (32,32,3)))\n",
    "# the 3 in input shape indicates it is coloured image(RGB)\n",
    "# (3,3) indicates feature detector matrix size\n",
    "# 32 in no of feature detectors"
   ]
  },
  {
   "cell_type": "markdown",
   "metadata": {},
   "source": [
    "# 5. ADDING POOLING LAYER"
   ]
  },
  {
   "cell_type": "code",
   "execution_count": 7,
   "metadata": {},
   "outputs": [],
   "source": [
    "detector.add(MaxPooling2D((2,2)))\n",
    "# (2,2) is pooling matrix size"
   ]
  },
  {
   "cell_type": "code",
   "execution_count": 8,
   "metadata": {},
   "outputs": [],
   "source": [
    "detector.add(Convolution2D(64,(3,3), input_shape = (32,32,3)))\n",
    "detector.add(MaxPooling2D((2,2)))"
   ]
  },
  {
   "cell_type": "code",
   "execution_count": 9,
   "metadata": {},
   "outputs": [],
   "source": [
    "detector.add(Convolution2D(128,(3,3), input_shape = (32,32,3)))\n",
    "detector.add(MaxPooling2D((2,2)))"
   ]
  },
  {
   "cell_type": "markdown",
   "metadata": {},
   "source": [
    "# 6. ADDING FLATTEN LAYER"
   ]
  },
  {
   "cell_type": "code",
   "execution_count": 10,
   "metadata": {},
   "outputs": [],
   "source": [
    "detector.add(Flatten())  #gives input layer"
   ]
  },
  {
   "cell_type": "markdown",
   "metadata": {},
   "source": [
    "# 7. ADDING HIDDEN LAYER"
   ]
  },
  {
   "cell_type": "code",
   "execution_count": 11,
   "metadata": {},
   "outputs": [],
   "source": [
    "detector.add(Dense(units = 512, kernel_initializer = \"random_uniform\", activation = \"relu\"))"
   ]
  },
  {
   "cell_type": "markdown",
   "metadata": {},
   "source": [
    "# 8. ADDING OUTPUT LAYER"
   ]
  },
  {
   "cell_type": "code",
   "execution_count": 12,
   "metadata": {},
   "outputs": [],
   "source": [
    "detector.add(Dense(units = 1, kernel_initializer = \"random_uniform\", activation = \"sigmoid\"))"
   ]
  },
  {
   "cell_type": "markdown",
   "metadata": {},
   "source": [
    "# 9. MODEL TRAINING"
   ]
  },
  {
   "cell_type": "code",
   "execution_count": 13,
   "metadata": {},
   "outputs": [],
   "source": [
    "detector.compile(optimizer = \"adam\", loss = \"binary_crossentropy\", metrics = [\"accuracy\"])  "
   ]
  },
  {
   "cell_type": "code",
   "execution_count": 14,
   "metadata": {
    "scrolled": false
   },
   "outputs": [
    {
     "name": "stdout",
     "output_type": "stream",
     "text": [
      "Epoch 1/50\n",
      "2178/2178 [==============================] - ETA: 0s - loss: 0.5144 - accuracy: 0.7591WARNING:tensorflow:Your input ran out of data; interrupting training. Make sure that your dataset or generator can generate at least `steps_per_epoch * epochs` batches (in this case, 2204 batches). You may need to use the repeat() function when building your dataset.\n",
      "2178/2178 [==============================] - 261s 119ms/step - loss: 0.5144 - accuracy: 0.7591 - val_loss: 0.5508 - val_accuracy: 0.7568\n",
      "Epoch 2/50\n",
      "2178/2178 [==============================] - 5121s 2s/step - loss: 0.4487 - accuracy: 0.8020\n",
      "Epoch 3/50\n",
      "2178/2178 [==============================] - 194s 89ms/step - loss: 0.4166 - accuracy: 0.8190\n",
      "Epoch 4/50\n",
      "2178/2178 [==============================] - 189s 87ms/step - loss: 0.3962 - accuracy: 0.8281\n",
      "Epoch 5/50\n",
      "2178/2178 [==============================] - 178s 82ms/step - loss: 0.3878 - accuracy: 0.8343\n",
      "Epoch 6/50\n",
      "2178/2178 [==============================] - 177s 81ms/step - loss: 0.3838 - accuracy: 0.8348\n",
      "Epoch 7/50\n",
      "2178/2178 [==============================] - 175s 81ms/step - loss: 0.3698 - accuracy: 0.8412\n",
      "Epoch 8/50\n",
      "2178/2178 [==============================] - 172s 79ms/step - loss: 0.3735 - accuracy: 0.8399\n",
      "Epoch 9/50\n",
      "2178/2178 [==============================] - 177s 81ms/step - loss: 0.3662 - accuracy: 0.8441\n",
      "Epoch 10/50\n",
      "2178/2178 [==============================] - 176s 81ms/step - loss: 0.3660 - accuracy: 0.8433\n",
      "Epoch 11/50\n",
      "2178/2178 [==============================] - 173s 79ms/step - loss: 0.3598 - accuracy: 0.8474\n",
      "Epoch 12/50\n",
      "2178/2178 [==============================] - 176s 81ms/step - loss: 0.3600 - accuracy: 0.8465\n",
      "Epoch 13/50\n",
      "2178/2178 [==============================] - 182s 84ms/step - loss: 0.3560 - accuracy: 0.8489\n",
      "Epoch 14/50\n",
      "2178/2178 [==============================] - 178s 82ms/step - loss: 0.3497 - accuracy: 0.8503\n",
      "Epoch 15/50\n",
      "2178/2178 [==============================] - 180s 82ms/step - loss: 0.3506 - accuracy: 0.8506\n",
      "Epoch 16/50\n",
      "2178/2178 [==============================] - 179s 82ms/step - loss: 0.3514 - accuracy: 0.8502\n",
      "Epoch 17/50\n",
      "2178/2178 [==============================] - 179s 82ms/step - loss: 0.3450 - accuracy: 0.8534\n",
      "Epoch 18/50\n",
      "2178/2178 [==============================] - 179s 82ms/step - loss: 0.3453 - accuracy: 0.8541\n",
      "Epoch 19/50\n",
      "2178/2178 [==============================] - 177s 81ms/step - loss: 0.3420 - accuracy: 0.8545\n",
      "Epoch 20/50\n",
      "2178/2178 [==============================] - 179s 82ms/step - loss: 0.3426 - accuracy: 0.8551\n",
      "Epoch 21/50\n",
      "2178/2178 [==============================] - 183s 84ms/step - loss: 0.3402 - accuracy: 0.8553\n",
      "Epoch 22/50\n",
      "2178/2178 [==============================] - 196s 90ms/step - loss: 0.3364 - accuracy: 0.8569\n",
      "Epoch 23/50\n",
      "2178/2178 [==============================] - 182s 84ms/step - loss: 0.3354 - accuracy: 0.8578\n",
      "Epoch 24/50\n",
      "2178/2178 [==============================] - 183s 84ms/step - loss: 0.3354 - accuracy: 0.8577\n",
      "Epoch 25/50\n",
      "2178/2178 [==============================] - 178s 82ms/step - loss: 0.3337 - accuracy: 0.8589\n",
      "Epoch 26/50\n",
      "2178/2178 [==============================] - 186s 85ms/step - loss: 0.3291 - accuracy: 0.8615\n",
      "Epoch 27/50\n",
      "2178/2178 [==============================] - 188s 86ms/step - loss: 0.3323 - accuracy: 0.8599\n",
      "Epoch 28/50\n",
      "2178/2178 [==============================] - 179s 82ms/step - loss: 0.3284 - accuracy: 0.8623\n",
      "Epoch 29/50\n",
      "2178/2178 [==============================] - 179s 82ms/step - loss: 0.3284 - accuracy: 0.8620\n",
      "Epoch 30/50\n",
      "2178/2178 [==============================] - 180s 82ms/step - loss: 0.3290 - accuracy: 0.8632\n",
      "Epoch 31/50\n",
      "2178/2178 [==============================] - 181s 83ms/step - loss: 0.3261 - accuracy: 0.8616\n",
      "Epoch 32/50\n",
      "2178/2178 [==============================] - 181s 83ms/step - loss: 0.3247 - accuracy: 0.8636\n",
      "Epoch 33/50\n",
      "2178/2178 [==============================] - 183s 84ms/step - loss: 0.3228 - accuracy: 0.8642\n",
      "Epoch 34/50\n",
      "2178/2178 [==============================] - 180s 83ms/step - loss: 0.3209 - accuracy: 0.8644\n",
      "Epoch 35/50\n",
      "2178/2178 [==============================] - 186s 86ms/step - loss: 0.3217 - accuracy: 0.8656\n",
      "Epoch 36/50\n",
      "2178/2178 [==============================] - 179s 82ms/step - loss: 0.3164 - accuracy: 0.8675\n",
      "Epoch 37/50\n",
      "2178/2178 [==============================] - 186s 85ms/step - loss: 0.3193 - accuracy: 0.8660\n",
      "Epoch 38/50\n",
      "2178/2178 [==============================] - 188s 86ms/step - loss: 0.3150 - accuracy: 0.8678\n",
      "Epoch 39/50\n",
      "2178/2178 [==============================] - 184s 84ms/step - loss: 0.3143 - accuracy: 0.8676\n",
      "Epoch 40/50\n",
      "2178/2178 [==============================] - 181s 83ms/step - loss: 0.3155 - accuracy: 0.8667\n",
      "Epoch 41/50\n",
      "2178/2178 [==============================] - 197s 91ms/step - loss: 0.3171 - accuracy: 0.8675\n",
      "Epoch 42/50\n",
      "2178/2178 [==============================] - 184s 84ms/step - loss: 0.3153 - accuracy: 0.8673\n",
      "Epoch 43/50\n",
      "2178/2178 [==============================] - 181s 83ms/step - loss: 0.3114 - accuracy: 0.8700\n",
      "Epoch 44/50\n",
      "2178/2178 [==============================] - 182s 84ms/step - loss: 0.3125 - accuracy: 0.8688\n",
      "Epoch 45/50\n",
      "2178/2178 [==============================] - 186s 86ms/step - loss: 0.3124 - accuracy: 0.8676\n",
      "Epoch 46/50\n",
      "2178/2178 [==============================] - 190s 87ms/step - loss: 0.3054 - accuracy: 0.8709\n",
      "Epoch 47/50\n",
      "2178/2178 [==============================] - 184s 85ms/step - loss: 0.3071 - accuracy: 0.8717\n",
      "Epoch 48/50\n",
      "2178/2178 [==============================] - 194s 89ms/step - loss: 0.3079 - accuracy: 0.8713\n",
      "Epoch 49/50\n",
      "2178/2178 [==============================] - 182s 83ms/step - loss: 0.3052 - accuracy: 0.8729\n",
      "Epoch 50/50\n",
      "2178/2178 [==============================] - 183s 84ms/step - loss: 0.3052 - accuracy: 0.8716\n"
     ]
    }
   ],
   "source": [
    "history=detector.fit(x_train, steps_per_epoch = 102394//47, epochs = 50, validation_data = x_test, validation_steps = 44087//20)"
   ]
  },
  {
   "cell_type": "markdown",
   "metadata": {},
   "source": [
    "# 10. SAVING THE MODEL"
   ]
  },
  {
   "cell_type": "code",
   "execution_count": 15,
   "metadata": {},
   "outputs": [],
   "source": [
    "detector.save(\"breast_cancer_classifier.h5\")"
   ]
  },
  {
   "cell_type": "code",
   "execution_count": 1,
   "metadata": {},
   "outputs": [
    {
     "ename": "OSError",
     "evalue": "SavedModel file does not exist at: breast_cancer_classifiet.h5\\{saved_model.pbtxt|saved_model.pb}",
     "output_type": "error",
     "traceback": [
      "\u001b[1;31m---------------------------------------------------------------------------\u001b[0m",
      "\u001b[1;31mOSError\u001b[0m                                   Traceback (most recent call last)",
      "\u001b[1;32m<ipython-input-1-3ee0e4d69c24>\u001b[0m in \u001b[0;36m<module>\u001b[1;34m\u001b[0m\n\u001b[0;32m      2\u001b[0m \u001b[1;32mfrom\u001b[0m \u001b[0mkeras\u001b[0m\u001b[1;33m.\u001b[0m\u001b[0mpreprocessing\u001b[0m \u001b[1;32mimport\u001b[0m \u001b[0mimage\u001b[0m\u001b[1;33m\u001b[0m\u001b[1;33m\u001b[0m\u001b[0m\n\u001b[0;32m      3\u001b[0m \u001b[1;32mimport\u001b[0m \u001b[0mnumpy\u001b[0m \u001b[1;32mas\u001b[0m \u001b[0mnp\u001b[0m\u001b[1;33m\u001b[0m\u001b[1;33m\u001b[0m\u001b[0m\n\u001b[1;32m----> 4\u001b[1;33m \u001b[0mmodel\u001b[0m\u001b[1;33m=\u001b[0m\u001b[0mload_model\u001b[0m\u001b[1;33m(\u001b[0m\u001b[1;34m\"breast_cancer_classifiet.h5\"\u001b[0m\u001b[1;33m)\u001b[0m\u001b[1;33m\u001b[0m\u001b[1;33m\u001b[0m\u001b[0m\n\u001b[0m\u001b[0;32m      5\u001b[0m \u001b[0mimg\u001b[0m\u001b[1;33m=\u001b[0m\u001b[0mimage\u001b[0m\u001b[1;33m.\u001b[0m\u001b[0mload_img\u001b[0m\u001b[1;33m(\u001b[0m\u001b[1;34mr\"C:\\Users\\SaiDeepak\\Desktop\\MINI\\Project\\TEST\\1\\10279_idx5_x151_y1151_class1\"\u001b[0m\u001b[1;33m)\u001b[0m\u001b[1;33m\u001b[0m\u001b[1;33m\u001b[0m\u001b[0m\n\u001b[0;32m      6\u001b[0m \u001b[0mx\u001b[0m\u001b[1;33m=\u001b[0m\u001b[0mimage\u001b[0m\u001b[1;33m.\u001b[0m\u001b[0mimg_to_array\u001b[0m\u001b[1;33m(\u001b[0m\u001b[0mimg\u001b[0m\u001b[1;33m)\u001b[0m\u001b[1;33m\u001b[0m\u001b[1;33m\u001b[0m\u001b[0m\n",
      "\u001b[1;32m~\\anaconda3\\lib\\site-packages\\keras\\saving\\save.py\u001b[0m in \u001b[0;36mload_model\u001b[1;34m(filepath, custom_objects, compile, options)\u001b[0m\n\u001b[0;32m    203\u001b[0m         \u001b[0mfilepath\u001b[0m \u001b[1;33m=\u001b[0m \u001b[0mpath_to_string\u001b[0m\u001b[1;33m(\u001b[0m\u001b[0mfilepath\u001b[0m\u001b[1;33m)\u001b[0m\u001b[1;33m\u001b[0m\u001b[1;33m\u001b[0m\u001b[0m\n\u001b[0;32m    204\u001b[0m         \u001b[1;32mif\u001b[0m \u001b[0misinstance\u001b[0m\u001b[1;33m(\u001b[0m\u001b[0mfilepath\u001b[0m\u001b[1;33m,\u001b[0m \u001b[0mstr\u001b[0m\u001b[1;33m)\u001b[0m\u001b[1;33m:\u001b[0m\u001b[1;33m\u001b[0m\u001b[1;33m\u001b[0m\u001b[0m\n\u001b[1;32m--> 205\u001b[1;33m           \u001b[1;32mreturn\u001b[0m \u001b[0msaved_model_load\u001b[0m\u001b[1;33m.\u001b[0m\u001b[0mload\u001b[0m\u001b[1;33m(\u001b[0m\u001b[0mfilepath\u001b[0m\u001b[1;33m,\u001b[0m \u001b[0mcompile\u001b[0m\u001b[1;33m,\u001b[0m \u001b[0moptions\u001b[0m\u001b[1;33m)\u001b[0m\u001b[1;33m\u001b[0m\u001b[1;33m\u001b[0m\u001b[0m\n\u001b[0m\u001b[0;32m    206\u001b[0m \u001b[1;33m\u001b[0m\u001b[0m\n\u001b[0;32m    207\u001b[0m   raise IOError(\n",
      "\u001b[1;32m~\\anaconda3\\lib\\site-packages\\keras\\saving\\saved_model\\load.py\u001b[0m in \u001b[0;36mload\u001b[1;34m(path, compile, options)\u001b[0m\n\u001b[0;32m    106\u001b[0m   \u001b[1;31m# Look for metadata file or parse the SavedModel\u001b[0m\u001b[1;33m\u001b[0m\u001b[1;33m\u001b[0m\u001b[1;33m\u001b[0m\u001b[0m\n\u001b[0;32m    107\u001b[0m   \u001b[0mmetadata\u001b[0m \u001b[1;33m=\u001b[0m \u001b[0msaved_metadata_pb2\u001b[0m\u001b[1;33m.\u001b[0m\u001b[0mSavedMetadata\u001b[0m\u001b[1;33m(\u001b[0m\u001b[1;33m)\u001b[0m\u001b[1;33m\u001b[0m\u001b[1;33m\u001b[0m\u001b[0m\n\u001b[1;32m--> 108\u001b[1;33m   \u001b[0mmeta_graph_def\u001b[0m \u001b[1;33m=\u001b[0m \u001b[0mtf\u001b[0m\u001b[1;33m.\u001b[0m\u001b[0m__internal__\u001b[0m\u001b[1;33m.\u001b[0m\u001b[0msaved_model\u001b[0m\u001b[1;33m.\u001b[0m\u001b[0mparse_saved_model\u001b[0m\u001b[1;33m(\u001b[0m\u001b[0mpath\u001b[0m\u001b[1;33m)\u001b[0m\u001b[1;33m.\u001b[0m\u001b[0mmeta_graphs\u001b[0m\u001b[1;33m[\u001b[0m\u001b[1;36m0\u001b[0m\u001b[1;33m]\u001b[0m\u001b[1;33m\u001b[0m\u001b[1;33m\u001b[0m\u001b[0m\n\u001b[0m\u001b[0;32m    109\u001b[0m   \u001b[0mobject_graph_def\u001b[0m \u001b[1;33m=\u001b[0m \u001b[0mmeta_graph_def\u001b[0m\u001b[1;33m.\u001b[0m\u001b[0mobject_graph_def\u001b[0m\u001b[1;33m\u001b[0m\u001b[1;33m\u001b[0m\u001b[0m\n\u001b[0;32m    110\u001b[0m   \u001b[0mpath_to_metadata_pb\u001b[0m \u001b[1;33m=\u001b[0m \u001b[0mos\u001b[0m\u001b[1;33m.\u001b[0m\u001b[0mpath\u001b[0m\u001b[1;33m.\u001b[0m\u001b[0mjoin\u001b[0m\u001b[1;33m(\u001b[0m\u001b[0mpath\u001b[0m\u001b[1;33m,\u001b[0m \u001b[0mconstants\u001b[0m\u001b[1;33m.\u001b[0m\u001b[0mSAVED_METADATA_PATH\u001b[0m\u001b[1;33m)\u001b[0m\u001b[1;33m\u001b[0m\u001b[1;33m\u001b[0m\u001b[0m\n",
      "\u001b[1;32m~\\anaconda3\\lib\\site-packages\\tensorflow\\python\\saved_model\\loader_impl.py\u001b[0m in \u001b[0;36mparse_saved_model\u001b[1;34m(export_dir)\u001b[0m\n\u001b[0;32m    116\u001b[0m       \u001b[1;32mraise\u001b[0m \u001b[0mIOError\u001b[0m\u001b[1;33m(\u001b[0m\u001b[1;34m\"Cannot parse file %s: %s.\"\u001b[0m \u001b[1;33m%\u001b[0m \u001b[1;33m(\u001b[0m\u001b[0mpath_to_pbtxt\u001b[0m\u001b[1;33m,\u001b[0m \u001b[0mstr\u001b[0m\u001b[1;33m(\u001b[0m\u001b[0me\u001b[0m\u001b[1;33m)\u001b[0m\u001b[1;33m)\u001b[0m\u001b[1;33m)\u001b[0m\u001b[1;33m\u001b[0m\u001b[1;33m\u001b[0m\u001b[0m\n\u001b[0;32m    117\u001b[0m   \u001b[1;32melse\u001b[0m\u001b[1;33m:\u001b[0m\u001b[1;33m\u001b[0m\u001b[1;33m\u001b[0m\u001b[0m\n\u001b[1;32m--> 118\u001b[1;33m     raise IOError(\n\u001b[0m\u001b[0;32m    119\u001b[0m         \u001b[1;34m\"SavedModel file does not exist at: %s%s{%s|%s}\"\u001b[0m \u001b[1;33m%\u001b[0m\u001b[1;33m\u001b[0m\u001b[1;33m\u001b[0m\u001b[0m\n\u001b[0;32m    120\u001b[0m         (export_dir, os.path.sep, constants.SAVED_MODEL_FILENAME_PBTXT,\n",
      "\u001b[1;31mOSError\u001b[0m: SavedModel file does not exist at: breast_cancer_classifiet.h5\\{saved_model.pbtxt|saved_model.pb}"
     ]
    }
   ],
   "source": [
    "from tensorflow.keras.models import load_model\n",
    "from keras.preprocessing import image\n",
    "import numpy as np\n",
    "model=load_model(\"breast_cancer_classifiet.h5\")\n",
    "img=image.load_img(r\"C:\\Users\\SaiDeepak\\Desktop\\MINI\\Project\\TEST\\1\\10279_idx5_x151_y1151_class1\")\n",
    "x=image.img_to_array(img)\n",
    "x=np.expand_dims(x,axis=0)\n",
    "y=model.predict(x)\n",
    "pred=np.argmax(y,axis=1)"
   ]
  }
 ],
 "metadata": {
  "interpreter": {
   "hash": "df5abeab40d20adc50319204d940f3435bf7d98cbbca93a2c916124cf1f3bcd2"
  },
  "kernelspec": {
   "display_name": "Python 3.8.8 64-bit ('base': conda)",
   "name": "python3"
  },
  "language_info": {
   "codemirror_mode": {
    "name": "ipython",
    "version": 3
   },
   "file_extension": ".py",
   "mimetype": "text/x-python",
   "name": "python",
   "nbconvert_exporter": "python",
   "pygments_lexer": "ipython3",
   "version": "3.8.8"
  }
 },
 "nbformat": 4,
 "nbformat_minor": 4
}
